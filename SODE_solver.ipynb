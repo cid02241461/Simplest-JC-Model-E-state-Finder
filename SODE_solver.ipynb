{
 "cells": [
  {
   "cell_type": "code",
   "execution_count": null,
   "metadata": {
    "vscode": {
     "languageId": "plaintext"
    }
   },
   "outputs": [],
   "source": [
    "import matplotlib.pyplot as plt"
   ]
  },
  {
   "cell_type": "code",
   "execution_count": null,
   "metadata": {
    "vscode": {
     "languageId": "plaintext"
    }
   },
   "outputs": [],
   "source": [
    "def runge_kutta_solver(f,h,t,y):\n",
    "       plt.plot(t,y,'x')\n",
    "       for i in range(0,1000):\n",
    "\n",
    "           '''\n",
    "           k1 = f(t, yp)\n",
    "           k2 = f(t + h/2, yp + h*k1/2)\n",
    "           k3 = f(t + h/2, yp + h*k2/2)\n",
    "           k4 = f(t + h, yp + h*k3)\n",
    "         '''\n",
    "           k1 = f(t)\n",
    "           k2 = f(t + h/2)\n",
    "           k3 = f(t + h/2)\n",
    "           k4 = f(t + h)\n",
    "           y += (h/6)*(k1 + 2*k2 + 2*k3 + k4)\n",
    "           t += h\n",
    "           plt.plot(t, y,'x')\n",
    "       plt.show()\n",
    "    \n",
    "\n",
    "    "
   ]
  },
  {
   "cell_type": "code",
   "execution_count": null,
   "metadata": {
    "vscode": {
     "languageId": "plaintext"
    }
   },
   "outputs": [],
   "source": [
    "import numpy as np\n",
    "import matplotlib.pyplot as plt\n",
    "\n",
    "# Parameters\n",
    "A = 0 + 0.01j \n",
    "B = 25/4      \n",
    "t_max = 10  \n",
    "dt = 0.01   \n",
    "n_steps = int(t_max / dt)  \n",
    "\n",
    "\n",
    "y = [1 + 0j] \n",
    "v = [0 + 0j]  \n",
    "\n",
    "# Time points\n",
    "t = np.linspace(0, t_max, n_steps)\n",
    "\n",
    "\n",
    "\n",
    "\n",
    "\n",
    "for _ in range(1, n_steps):\n",
    "    y_next = y[-1] + dt * v[-1]\n",
    "    v_next = v[-1] + dt * (-1j * A * v[-1] - B * y[-1])\n",
    "    y.append(y_next)\n",
    "    v.append(v_next)\n",
    "\n",
    "\n",
    "\n",
    "\n",
    "plt.figure(figsize=(12, 6))\n",
    "plt.plot(t, np.real(y), label=\"Real part of y(t)\")\n",
    "plt.plot(t, np.imag(y), label=\"Imaginary part of y(t)\", linestyle=\"--\")\n",
    "plt.xlabel(\"Time\")\n",
    "plt.ylabel(\"y(t)\")\n",
    "plt.title(\"Plot of C1 for Euler's solution\")\n",
    "plt.legend()\n",
    "plt.grid()\n",
    "plt.show()"
   ]
  },
  {
   "cell_type": "code",
   "execution_count": null,
   "metadata": {
    "vscode": {
     "languageId": "plaintext"
    }
   },
   "outputs": [],
   "source": [
    "import numpy as np\n",
    "import matplotlib.pyplot as plt\n",
    "\n",
    "# Parameters\n",
    "A = 0 + 0.01j \n",
    "B = 25/4      \n",
    "t_max = 10  \n",
    "dt = 0.01   \n",
    "n_steps = int(t_max / dt)  \n",
    "\n",
    "\n",
    "y = [1 + 0j] \n",
    "v = [0 + 0j]  \n",
    "\n",
    "# Time points\n",
    "t = np.linspace(0, t_max, n_steps)\n",
    "\n",
    "\n",
    "\n",
    "\n",
    "\n",
    "for _ in range(1, n_steps):\n",
    "\n",
    "    \n",
    "\n",
    "    \n",
    "    \n",
    "\n",
    "\n",
    "    \n",
    "    k1 = v[-1]\n",
    "    k2 = v[-1] + dt/2 * (-1j * A * v[-1] - B * y[-1]) \n",
    "    k3 = v[-1] + dt/2 * (-1j * A * v[-1] - B * y[-1]) \n",
    "    k4 = v[-1] + dt * (-1j * A * v[-1] - B * y[-1]) \n",
    "\n",
    "    y_next = y[-1] + (dt/6)*(k1 + 2*k2 + 2*k3 + k4)\n",
    "   \n",
    "\n",
    "    \n",
    "    y.append(y_next)\n",
    "    v.append(k4)\n",
    "\n",
    "\n",
    "\n",
    "\n",
    "plt.figure(figsize=(12, 6))\n",
    "plt.plot(t, np.real(y), label=\"Real part of y(t)\")\n",
    "plt.plot(t, np.imag(y), label=\"Imaginary part of y(t)\", linestyle=\"--\")\n",
    "plt.xlabel(\"Time\")\n",
    "plt.ylabel(\"y(t)\")\n",
    "plt.title(\"Plot of C1 for Euler's solution\")\n",
    "plt.legend()\n",
    "plt.grid()\n",
    "plt.show()"
   ]
  },
  {
   "cell_type": "code",
   "execution_count": null,
   "metadata": {
    "vscode": {
     "languageId": "plaintext"
    }
   },
   "outputs": [],
   "source": []
  }
 ],
 "metadata": {
  "language_info": {
   "name": "python"
  }
 },
 "nbformat": 4,
 "nbformat_minor": 2
}
